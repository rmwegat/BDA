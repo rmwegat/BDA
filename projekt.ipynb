{
 "cells": [
  {
   "cell_type": "markdown",
   "id": "ee710202",
   "metadata": {},
   "source": []
  },
  {
   "cell_type": "markdown",
   "id": "e7702671",
   "metadata": {},
   "source": [
    "# BDA ANALYSEPROJEKT MIETPREISE DEUTSCHLAND 2023\n"
   ]
  },
  {
   "cell_type": "markdown",
   "id": "b4d728b4",
   "metadata": {},
   "source": [
    "## Betriebswirtschaftliche Datenanalyse – Exposé\n",
    "\n",
    "### Teammitglieder\n",
    "\n",
    "| Vorname   | Nachname  | Matrikelnummer |\n",
    "|-----------|-----------|----------------|\n",
    "| Timon     | Schmidt   | 217101         |\n",
    "| Sümeyye   | Gügercin  | 214424         |\n",
    "| Melih     | Akbulut   | 220860         |\n",
    "| Dariana   | Barkov    | 220858         |\n",
    "| Rasmus    | Wegat     | 221727         |\n",
    "\n",
    "---\n",
    "\n",
    "### Fragestellung\n",
    "\n",
    "**„Gibt es einen klaren Zusammenhang zwischen Leerstand und Mietpreisen in Deutschland?“**\n",
    "\n",
    "---\n",
    "\n",
    "### Erläuterung\n",
    "\n",
    "In dieser Analyse sollen die Daten zu leerstehenden Wohnungen und den Wohnungspreisen in den jeweiligen Landkreisen aus dem Jahr 2023 verglichen werden. Ziel ist es, zu untersuchen, ob in attraktiven Städten mit hohen Mieten ein künstlicher Wohnungsleerstand existiert, um durch eine künstliche Verknappung die Preise hochzuhalten. Darüber hinaus sollen weitere Muster identifiziert werden, um die Haupttreiber hoher Mietpreise in Großstädten besser zu verstehen.\n",
    "\n",
    "---\n",
    "\n",
    "### Ansatz und Vorgehensweise\n",
    "\n",
    "Mit Hilfe von **pandas**, **matplotlib** und **seaborn** werden die Leerstandsquoten und Mietpreise auf Kreisebene anhand der Daten des Deutschlandatlas analysiert und visualisiert. Zusätzlich können weitere Einflussfaktoren wie Bevölkerungsdichte, Einkommen und Urbanität einbezogen werden, um weitere Aussagen über Ursachen hoher Mietpreise treffen zu können.\n",
    "\n",
    "---\n",
    "\n",
    "### Datenquelle\n",
    "\n",
    "[Deutschlandatlas – Mieten](https://www.deutschlandatlas.bund.de/DE/Karten/Wie-wir-wohnen/040-Mieten.html#_g5f1sd6f4)  \n",
    "Aufgerufen am 13.04.2025, 13:00 Uhr."
   ]
  },
  {
   "cell_type": "markdown",
   "id": "c495d17e",
   "metadata": {},
   "source": [
    "Imports"
   ]
  },
  {
   "cell_type": "code",
   "execution_count": 3,
   "id": "b30e13d0",
   "metadata": {},
   "outputs": [],
   "source": [
    "import numpy as np\n",
    "import pandas as pd\n",
    "import scipy.stats as stats\n",
    "import matplotlib.pyplot as plt\n",
    "import statsmodels.formula.api as sm\n",
    "import seaborn as sns\n",
    "from scipy.stats import lognorm, kstest, norm, shapiro\n",
    "\n",
    "%matplotlib inline"
   ]
  },
  {
   "cell_type": "markdown",
   "id": "330209ee",
   "metadata": {},
   "source": [
    "Einlesen der Exel Datei und herausfiltern der Daten die wir wollen\n"
   ]
  },
  {
   "cell_type": "code",
   "execution_count": null,
   "id": "88dc079d",
   "metadata": {},
   "outputs": [
    {
     "name": "stdout",
     "output_type": "stream",
     "text": [
      "    KRS_ID               Kreisname  bev_binw             preis_miet  \\\n",
      "0  1001000        Flensburg, Stadt     49.81   8,50 bis unter 10,00   \n",
      "1  1002000  Kiel, Landeshauptstadt    -12.80   8,50 bis unter 10,00   \n",
      "2  1003000      Lübeck, Hansestadt     30.67  10,00 bis unter 11,50   \n",
      "3  1004000       Neumünster, Stadt   -286.79    7,00 bis unter 8,50   \n",
      "4  1051000            Dithmarschen     66.47    7,00 bis unter 8,50   \n",
      "\n",
      "   wohn_eigen  wohn_leer  wohn_EZFH  wohn_MFH  erw_wachs  erw_mini  ...  \\\n",
      "0   24.471627       2.95        4.1      21.6       0.96     10.06  ...   \n",
      "1   24.250576       2.13        1.4      18.6       1.07      9.51  ...   \n",
      "2   28.982434       2.88        6.1      32.1       0.78      8.56  ...   \n",
      "3   36.995588       3.71        5.9      22.8       1.67      8.77  ...   \n",
      "4   57.855063       3.49       27.2      17.4       1.02     12.13  ...   \n",
      "\n",
      "          preis_baul  erw_bip  hh_veink  erw_vol  Gemeindeverbandsname  \\\n",
      "0  100 bis unter 200    65.27     20.15     1.33                   NaN   \n",
      "1  200 bis unter 300    70.75     21.34      NaN                   NaN   \n",
      "2       500 und mehr    76.90     22.40      NaN                   NaN   \n",
      "3  100 bis unter 200    70.62     21.22     7.60                   NaN   \n",
      "4   50 bis unter 100    81.26     24.62     1.73                   NaN   \n",
      "\n",
      "   pendel            Gemeindename  bev_dicht  bev_entw  beschq_insg  \n",
      "0     NaN        Flensburg, Stadt    1631.41      0.91        59.60  \n",
      "1     NaN  Kiel, Landeshauptstadt    2087.80     -0.02        59.72  \n",
      "2     NaN      Lübeck, Hansestadt    1018.23      0.16        63.25  \n",
      "3     NaN       Neumünster, Stadt    1109.43      0.04        65.52  \n",
      "4     NaN                     NaN        NaN       NaN          NaN  \n",
      "\n",
      "[5 rows x 26 columns]\n"
     ]
    }
   ],
   "source": [
    "\n",
    "# Tabellen laden\n",
    "gem1222 = pd.read_excel(\"Deutschlandatlas-Daten.xlsx\", sheet_name=\"Deutschlandatlas_GEM1222\")\n",
    "vbgem1222 = pd.read_excel(\"Deutschlandatlas-Daten.xlsx\", sheet_name=\"Deutschlandatlas_VBGEM1222\")\n",
    "krs1222 = pd.read_excel(\"Deutschlandatlas-Daten.xlsx\", sheet_name=\"Deutschlandatlas_KRS1222\")\n",
    "krs1221 = pd.read_excel(\"Deutschlandatlas-Daten.xlsx\", sheet_name=\"Deutschlandatlas_KRS1221\")\n",
    "krs1220 = pd.read_excel(\"Deutschlandatlas-Daten.xlsx\", sheet_name=\"Deutschlandatlas_KRS1220\")\n",
    "\n",
    "# Einheitlicher Key-Name\n",
    "def rename_key(df):\n",
    "    return df.rename(columns={df.columns[0]: \"KRS_ID\"})\n",
    "\n",
    "gem1222 = rename_key(gem1222)\n",
    "vbgem1222 = rename_key(vbgem1222)\n",
    "krs1222 = rename_key(krs1222)\n",
    "krs1221 = rename_key(krs1221)\n",
    "krs1220 = rename_key(krs1220)\n",
    "\n",
    "# ❗️Auswahl der gewünschten Spalten je Ebene (inkl. Name-Spalten)\n",
    "gem_cols = [\"KRS_ID\", \"Gemeindename\", \"bev_dicht\", \"bev_entw\", \"beschq_insg\"]\n",
    "vbgem_cols = [\"KRS_ID\", \"Gemeindeverbandsname\", \"pendel\"]\n",
    "krs1222_cols = [\"KRS_ID\", \"Kreisname\", \"bev_binw\", \"preis_miet\", \"wohn_eigen\", \"wohn_leer\", \"wohn_EZFH\", \"wohn_MFH\",\n",
    "                \"erw_wachs\", \"erw_mini\", \"erw_minineben\", \"alq\", \"schulden\", \"sozsich\", \"straft\", \"einbr\"]\n",
    "krs1221_cols = [\"KRS_ID\", \"Kreisname\", \"preis_baul\", \"erw_bip\", \"hh_veink\"]\n",
    "krs1220_cols = [\"KRS_ID\", \"Kreisname\", \"erw_vol\"]\n",
    "\n",
    "# ❗️Nur benötigte Spalten extrahieren\n",
    "gem1222_sel = gem1222[gem_cols]\n",
    "vbgem1222_sel = vbgem1222[vbgem_cols]\n",
    "krs1222_sel = krs1222[krs1222_cols]\n",
    "krs1221_sel = krs1221[krs1221_cols]\n",
    "krs1220_sel = krs1220[krs1220_cols]\n",
    "\n",
    "# Kombinieren aller Tabellen über KRS_ID\n",
    "# Reihenfolge: Kreisebene (groß), dann Verbandsgemeinden, dann Gemeinden\n",
    "df = krs1222_sel.merge(krs1221_sel, on=[\"KRS_ID\", \"Kreisname\"], how=\"left\", suffixes=(\"\", \"_krs1221\"))\n",
    "df = df.merge(krs1220_sel, on=[\"KRS_ID\", \"Kreisname\"], how=\"left\", suffixes=(\"\", \"_krs1220\"))\n",
    "df = df.merge(vbgem1222_sel, on=\"KRS_ID\", how=\"left\")\n",
    "df = df.merge(gem1222_sel, on=\"KRS_ID\", how=\"left\")\n",
    "\n",
    "# Nach KRS_ID sortieren\n",
    "df = df.sort_values(\"KRS_ID\").reset_index(drop=True)\n",
    "\n",
    "# Optional: Speichern\n",
    "df.to_excel(\"ExtractedData.xlsx\", index=False)\n"
   ]
  },
  {
   "cell_type": "markdown",
   "id": "7446f50a",
   "metadata": {},
   "source": [
    "**Legende der Kombinierten Tabelle**\n",
    "\n",
    "- **bev_dicht**: Bevölkerungsdichte (Einwohner je km²)\n",
    "- **bev_entw**: Bevölkerungsentwicklung (% zum Vorjahr)\n",
    "- **beschq_insg**: Beschäftigungsquote insgesamt (%)\n",
    "- **pendel**: Pendleranteil bzw. Pendlerbewegung\n",
    "- **bev_binw**: Bevölkerungsentwicklung insgesamt (%-Veränderung)\n",
    "- **preis_miet**: Angebotsmietpreis in €/m²\n",
    "- **wohn_eigen**: Anteil der selbstgenutzten Immobilien (%)\n",
    "- **wohn_leer**: Leerstandsquote (%)\n",
    "- **wohn_EZFH**: Anteil an Ein- und Zweifamilienhäusern (%)\n",
    "- **wohn_MFH**: Anteil an Mehrfamilienhäusern (%)\n",
    "- **erw_wachs**: Erwerbstätigenwachstum (%)\n",
    "- **erw_mini**: Anteil der Minijobs (%)\n",
    "- **erw_minineben**: Anteil der Minijobs als Nebentätigkeit (%)\n",
    "- **alq**: Arbeitslosenquote (%)\n",
    "- **schulden**: Verschuldung je Einwohner (in €)\n",
    "- **sozsich**: Anteil an der Bevölkerung in sozialer Sicherung (%)\n",
    "- **straft**: Straftaten pro 100.000 Einwohner\n",
    "- **einbr**: Einbruchshäufigkeit pro 100.000 Einwohner\n",
    "- **preis_baul**: Baulandpreise (Textkategorie, z. B. „100 bis unter 200 €/m²“)\n",
    "- **erw_bip**: Bruttoinlandsprodukt (BIP) je Erwerbstätigen (in Tsd. €)\n",
    "- **hh_veink**: Verfügbares Einkommen je Einwohner (in Tsd. €)\n",
    "- **erw_vol**: Anteil der Vollzeit-Erwerbstätigen an allen Erwerbstätigen (%)"
   ]
  },
  {
   "cell_type": "code",
   "execution_count": null,
   "id": "deb16e7b",
   "metadata": {},
   "outputs": [],
   "source": []
  }
 ],
 "metadata": {
  "kernelspec": {
   "display_name": "base",
   "language": "python",
   "name": "python3"
  },
  "language_info": {
   "codemirror_mode": {
    "name": "ipython",
    "version": 3
   },
   "file_extension": ".py",
   "mimetype": "text/x-python",
   "name": "python",
   "nbconvert_exporter": "python",
   "pygments_lexer": "ipython3",
   "version": "3.12.7"
  }
 },
 "nbformat": 4,
 "nbformat_minor": 5
}
